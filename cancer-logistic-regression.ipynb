{
 "cells": [
  {
   "cell_type": "code",
   "execution_count": 1,
   "id": "d0ecef85",
   "metadata": {
    "_cell_guid": "b1076dfc-b9ad-4769-8c92-a6c4dae69d19",
    "_uuid": "8f2839f25d086af736a60e9eeb907d3b93b6e0e5",
    "execution": {
     "iopub.execute_input": "2023-08-26T10:06:18.281162Z",
     "iopub.status.busy": "2023-08-26T10:06:18.280731Z",
     "iopub.status.idle": "2023-08-26T10:06:18.302725Z",
     "shell.execute_reply": "2023-08-26T10:06:18.301396Z"
    },
    "papermill": {
     "duration": 0.034552,
     "end_time": "2023-08-26T10:06:18.305293",
     "exception": false,
     "start_time": "2023-08-26T10:06:18.270741",
     "status": "completed"
    },
    "tags": []
   },
   "outputs": [
    {
     "name": "stdout",
     "output_type": "stream",
     "text": [
      "/kaggle/input/breast-cancer-prediction-dataset/Breast_cancer_data.csv\n"
     ]
    }
   ],
   "source": [
    "# This Python 3 environment comes with many helpful analytics libraries installed\n",
    "# It is defined by the kaggle/python Docker image: https://github.com/kaggle/docker-python\n",
    "# For example, here's several helpful packages to load\n",
    "\n",
    "import numpy as np # linear algebra\n",
    "import pandas as pd # data processing, CSV file I/O (e.g. pd.read_csv)\n",
    "\n",
    "# Input data files are available in the read-only \"../input/\" directory\n",
    "# For example, running this (by clicking run or pressing Shift+Enter) will list all files under the input directory\n",
    "\n",
    "import os\n",
    "for dirname, _, filenames in os.walk('/kaggle/input'):\n",
    "    for filename in filenames:\n",
    "        print(os.path.join(dirname, filename))\n",
    "\n",
    "# You can write up to 20GB to the current directory (/kaggle/working/) that gets preserved as output when you create a version using \"Save & Run All\" \n",
    "# You can also write temporary files to /kaggle/temp/, but they won't be saved outside of the current session"
   ]
  },
  {
   "cell_type": "markdown",
   "id": "2cb2417b",
   "metadata": {
    "papermill": {
     "duration": 0.007495,
     "end_time": "2023-08-26T10:06:18.320676",
     "exception": false,
     "start_time": "2023-08-26T10:06:18.313181",
     "status": "completed"
    },
    "tags": []
   },
   "source": [
    "# import pakages"
   ]
  },
  {
   "cell_type": "code",
   "execution_count": 2,
   "id": "97c6f4fe",
   "metadata": {
    "execution": {
     "iopub.execute_input": "2023-08-26T10:06:18.337800Z",
     "iopub.status.busy": "2023-08-26T10:06:18.337379Z",
     "iopub.status.idle": "2023-08-26T10:06:19.810116Z",
     "shell.execute_reply": "2023-08-26T10:06:19.808784Z"
    },
    "papermill": {
     "duration": 1.485071,
     "end_time": "2023-08-26T10:06:19.813340",
     "exception": false,
     "start_time": "2023-08-26T10:06:18.328269",
     "status": "completed"
    },
    "tags": []
   },
   "outputs": [
    {
     "name": "stderr",
     "output_type": "stream",
     "text": [
      "/opt/conda/lib/python3.10/site-packages/scipy/__init__.py:146: UserWarning: A NumPy version >=1.16.5 and <1.23.0 is required for this version of SciPy (detected version 1.23.5\n",
      "  warnings.warn(f\"A NumPy version >={np_minversion} and <{np_maxversion}\"\n"
     ]
    }
   ],
   "source": [
    "import numpy as np\n",
    "import pandas as pd\n",
    "import matplotlib.pyplot as plt\n",
    "import seaborn as sns"
   ]
  },
  {
   "cell_type": "markdown",
   "id": "03eeded2",
   "metadata": {
    "papermill": {
     "duration": 0.007404,
     "end_time": "2023-08-26T10:06:19.828515",
     "exception": false,
     "start_time": "2023-08-26T10:06:19.821111",
     "status": "completed"
    },
    "tags": []
   },
   "source": [
    "# import dataset"
   ]
  },
  {
   "cell_type": "code",
   "execution_count": 3,
   "id": "635f5cf3",
   "metadata": {
    "execution": {
     "iopub.execute_input": "2023-08-26T10:06:19.845992Z",
     "iopub.status.busy": "2023-08-26T10:06:19.845121Z",
     "iopub.status.idle": "2023-08-26T10:06:19.865399Z",
     "shell.execute_reply": "2023-08-26T10:06:19.864384Z"
    },
    "papermill": {
     "duration": 0.031797,
     "end_time": "2023-08-26T10:06:19.867942",
     "exception": false,
     "start_time": "2023-08-26T10:06:19.836145",
     "status": "completed"
    },
    "tags": []
   },
   "outputs": [],
   "source": [
    "df = pd.read_csv('/kaggle/input/breast-cancer-prediction-dataset/Breast_cancer_data.csv')"
   ]
  },
  {
   "cell_type": "markdown",
   "id": "fcb6931c",
   "metadata": {
    "papermill": {
     "duration": 0.007506,
     "end_time": "2023-08-26T10:06:19.883550",
     "exception": false,
     "start_time": "2023-08-26T10:06:19.876044",
     "status": "completed"
    },
    "tags": []
   },
   "source": [
    "# analys data"
   ]
  },
  {
   "cell_type": "code",
   "execution_count": 4,
   "id": "617843b2",
   "metadata": {
    "execution": {
     "iopub.execute_input": "2023-08-26T10:06:19.901371Z",
     "iopub.status.busy": "2023-08-26T10:06:19.900614Z",
     "iopub.status.idle": "2023-08-26T10:06:19.921970Z",
     "shell.execute_reply": "2023-08-26T10:06:19.920595Z"
    },
    "papermill": {
     "duration": 0.033228,
     "end_time": "2023-08-26T10:06:19.924669",
     "exception": false,
     "start_time": "2023-08-26T10:06:19.891441",
     "status": "completed"
    },
    "tags": []
   },
   "outputs": [
    {
     "data": {
      "text/plain": [
       "<bound method NDFrame.head of      mean_radius  mean_texture  mean_perimeter  mean_area  mean_smoothness  \\\n",
       "0          17.99         10.38          122.80     1001.0          0.11840   \n",
       "1          20.57         17.77          132.90     1326.0          0.08474   \n",
       "2          19.69         21.25          130.00     1203.0          0.10960   \n",
       "3          11.42         20.38           77.58      386.1          0.14250   \n",
       "4          20.29         14.34          135.10     1297.0          0.10030   \n",
       "..           ...           ...             ...        ...              ...   \n",
       "564        21.56         22.39          142.00     1479.0          0.11100   \n",
       "565        20.13         28.25          131.20     1261.0          0.09780   \n",
       "566        16.60         28.08          108.30      858.1          0.08455   \n",
       "567        20.60         29.33          140.10     1265.0          0.11780   \n",
       "568         7.76         24.54           47.92      181.0          0.05263   \n",
       "\n",
       "     diagnosis  \n",
       "0            0  \n",
       "1            0  \n",
       "2            0  \n",
       "3            0  \n",
       "4            0  \n",
       "..         ...  \n",
       "564          0  \n",
       "565          0  \n",
       "566          0  \n",
       "567          0  \n",
       "568          1  \n",
       "\n",
       "[569 rows x 6 columns]>"
      ]
     },
     "execution_count": 4,
     "metadata": {},
     "output_type": "execute_result"
    }
   ],
   "source": [
    "df.head\n"
   ]
  },
  {
   "cell_type": "code",
   "execution_count": 5,
   "id": "7784a882",
   "metadata": {
    "execution": {
     "iopub.execute_input": "2023-08-26T10:06:19.944028Z",
     "iopub.status.busy": "2023-08-26T10:06:19.943623Z",
     "iopub.status.idle": "2023-08-26T10:06:19.971142Z",
     "shell.execute_reply": "2023-08-26T10:06:19.969749Z"
    },
    "papermill": {
     "duration": 0.040363,
     "end_time": "2023-08-26T10:06:19.973506",
     "exception": false,
     "start_time": "2023-08-26T10:06:19.933143",
     "status": "completed"
    },
    "tags": []
   },
   "outputs": [
    {
     "name": "stdout",
     "output_type": "stream",
     "text": [
      "<class 'pandas.core.frame.DataFrame'>\n",
      "RangeIndex: 569 entries, 0 to 568\n",
      "Data columns (total 6 columns):\n",
      " #   Column           Non-Null Count  Dtype  \n",
      "---  ------           --------------  -----  \n",
      " 0   mean_radius      569 non-null    float64\n",
      " 1   mean_texture     569 non-null    float64\n",
      " 2   mean_perimeter   569 non-null    float64\n",
      " 3   mean_area        569 non-null    float64\n",
      " 4   mean_smoothness  569 non-null    float64\n",
      " 5   diagnosis        569 non-null    int64  \n",
      "dtypes: float64(5), int64(1)\n",
      "memory usage: 26.8 KB\n"
     ]
    }
   ],
   "source": [
    "df.info()"
   ]
  },
  {
   "cell_type": "code",
   "execution_count": 6,
   "id": "66d6aaa8",
   "metadata": {
    "execution": {
     "iopub.execute_input": "2023-08-26T10:06:19.991399Z",
     "iopub.status.busy": "2023-08-26T10:06:19.990526Z",
     "iopub.status.idle": "2023-08-26T10:06:20.024464Z",
     "shell.execute_reply": "2023-08-26T10:06:20.023352Z"
    },
    "papermill": {
     "duration": 0.045535,
     "end_time": "2023-08-26T10:06:20.027027",
     "exception": false,
     "start_time": "2023-08-26T10:06:19.981492",
     "status": "completed"
    },
    "tags": []
   },
   "outputs": [
    {
     "data": {
      "text/html": [
       "<div>\n",
       "<style scoped>\n",
       "    .dataframe tbody tr th:only-of-type {\n",
       "        vertical-align: middle;\n",
       "    }\n",
       "\n",
       "    .dataframe tbody tr th {\n",
       "        vertical-align: top;\n",
       "    }\n",
       "\n",
       "    .dataframe thead th {\n",
       "        text-align: right;\n",
       "    }\n",
       "</style>\n",
       "<table border=\"1\" class=\"dataframe\">\n",
       "  <thead>\n",
       "    <tr style=\"text-align: right;\">\n",
       "      <th></th>\n",
       "      <th>mean_radius</th>\n",
       "      <th>mean_texture</th>\n",
       "      <th>mean_perimeter</th>\n",
       "      <th>mean_area</th>\n",
       "      <th>mean_smoothness</th>\n",
       "      <th>diagnosis</th>\n",
       "    </tr>\n",
       "  </thead>\n",
       "  <tbody>\n",
       "    <tr>\n",
       "      <th>count</th>\n",
       "      <td>569.000000</td>\n",
       "      <td>569.000000</td>\n",
       "      <td>569.000000</td>\n",
       "      <td>569.000000</td>\n",
       "      <td>569.000000</td>\n",
       "      <td>569.000000</td>\n",
       "    </tr>\n",
       "    <tr>\n",
       "      <th>mean</th>\n",
       "      <td>14.127292</td>\n",
       "      <td>19.289649</td>\n",
       "      <td>91.969033</td>\n",
       "      <td>654.889104</td>\n",
       "      <td>0.096360</td>\n",
       "      <td>0.627417</td>\n",
       "    </tr>\n",
       "    <tr>\n",
       "      <th>std</th>\n",
       "      <td>3.524049</td>\n",
       "      <td>4.301036</td>\n",
       "      <td>24.298981</td>\n",
       "      <td>351.914129</td>\n",
       "      <td>0.014064</td>\n",
       "      <td>0.483918</td>\n",
       "    </tr>\n",
       "    <tr>\n",
       "      <th>min</th>\n",
       "      <td>6.981000</td>\n",
       "      <td>9.710000</td>\n",
       "      <td>43.790000</td>\n",
       "      <td>143.500000</td>\n",
       "      <td>0.052630</td>\n",
       "      <td>0.000000</td>\n",
       "    </tr>\n",
       "    <tr>\n",
       "      <th>25%</th>\n",
       "      <td>11.700000</td>\n",
       "      <td>16.170000</td>\n",
       "      <td>75.170000</td>\n",
       "      <td>420.300000</td>\n",
       "      <td>0.086370</td>\n",
       "      <td>0.000000</td>\n",
       "    </tr>\n",
       "    <tr>\n",
       "      <th>50%</th>\n",
       "      <td>13.370000</td>\n",
       "      <td>18.840000</td>\n",
       "      <td>86.240000</td>\n",
       "      <td>551.100000</td>\n",
       "      <td>0.095870</td>\n",
       "      <td>1.000000</td>\n",
       "    </tr>\n",
       "    <tr>\n",
       "      <th>75%</th>\n",
       "      <td>15.780000</td>\n",
       "      <td>21.800000</td>\n",
       "      <td>104.100000</td>\n",
       "      <td>782.700000</td>\n",
       "      <td>0.105300</td>\n",
       "      <td>1.000000</td>\n",
       "    </tr>\n",
       "    <tr>\n",
       "      <th>max</th>\n",
       "      <td>28.110000</td>\n",
       "      <td>39.280000</td>\n",
       "      <td>188.500000</td>\n",
       "      <td>2501.000000</td>\n",
       "      <td>0.163400</td>\n",
       "      <td>1.000000</td>\n",
       "    </tr>\n",
       "  </tbody>\n",
       "</table>\n",
       "</div>"
      ],
      "text/plain": [
       "       mean_radius  mean_texture  mean_perimeter    mean_area  \\\n",
       "count   569.000000    569.000000      569.000000   569.000000   \n",
       "mean     14.127292     19.289649       91.969033   654.889104   \n",
       "std       3.524049      4.301036       24.298981   351.914129   \n",
       "min       6.981000      9.710000       43.790000   143.500000   \n",
       "25%      11.700000     16.170000       75.170000   420.300000   \n",
       "50%      13.370000     18.840000       86.240000   551.100000   \n",
       "75%      15.780000     21.800000      104.100000   782.700000   \n",
       "max      28.110000     39.280000      188.500000  2501.000000   \n",
       "\n",
       "       mean_smoothness   diagnosis  \n",
       "count       569.000000  569.000000  \n",
       "mean          0.096360    0.627417  \n",
       "std           0.014064    0.483918  \n",
       "min           0.052630    0.000000  \n",
       "25%           0.086370    0.000000  \n",
       "50%           0.095870    1.000000  \n",
       "75%           0.105300    1.000000  \n",
       "max           0.163400    1.000000  "
      ]
     },
     "execution_count": 6,
     "metadata": {},
     "output_type": "execute_result"
    }
   ],
   "source": [
    "df.describe()"
   ]
  },
  {
   "cell_type": "code",
   "execution_count": 7,
   "id": "3f347ae0",
   "metadata": {
    "execution": {
     "iopub.execute_input": "2023-08-26T10:06:20.045314Z",
     "iopub.status.busy": "2023-08-26T10:06:20.044924Z",
     "iopub.status.idle": "2023-08-26T10:06:20.579945Z",
     "shell.execute_reply": "2023-08-26T10:06:20.578868Z"
    },
    "papermill": {
     "duration": 0.548045,
     "end_time": "2023-08-26T10:06:20.583454",
     "exception": false,
     "start_time": "2023-08-26T10:06:20.035409",
     "status": "completed"
    },
    "tags": []
   },
   "outputs": [
    {
     "data": {
      "text/plain": [
       "<Axes: >"
      ]
     },
     "execution_count": 7,
     "metadata": {},
     "output_type": "execute_result"
    },
    {
     "data": {
      "image/png": "[encoded data removed]",
      "text/plain": [
       "<Figure size 1500x800 with 2 Axes>"
      ]
     },
     "metadata": {},
     "output_type": "display_data"
    }
   ],
   "source": [
    "plt.figure(figsize = (15,8))\n",
    "sns.heatmap(df.corr(),annot = True , cmap = \"YlGnBu\")"
   ]
  },
  {
   "cell_type": "markdown",
   "id": "6b000e2e",
   "metadata": {
    "papermill": {
     "duration": 0.009532,
     "end_time": "2023-08-26T10:06:20.602761",
     "exception": false,
     "start_time": "2023-08-26T10:06:20.593229",
     "status": "completed"
    },
    "tags": []
   },
   "source": [
    "# Define x(features) & y(label)"
   ]
  },
  {
   "cell_type": "code",
   "execution_count": 8,
   "id": "e990d4a0",
   "metadata": {
    "execution": {
     "iopub.execute_input": "2023-08-26T10:06:20.624159Z",
     "iopub.status.busy": "2023-08-26T10:06:20.623707Z",
     "iopub.status.idle": "2023-08-26T10:06:20.630694Z",
     "shell.execute_reply": "2023-08-26T10:06:20.629350Z"
    },
    "papermill": {
     "duration": 0.020777,
     "end_time": "2023-08-26T10:06:20.633260",
     "exception": false,
     "start_time": "2023-08-26T10:06:20.612483",
     "status": "completed"
    },
    "tags": []
   },
   "outputs": [],
   "source": [
    "x = df[['mean_perimeter','mean_radius']]\n",
    "# x = df.drop(['diagnosis'],axis = 1)\n",
    "y = df['diagnosis']"
   ]
  },
  {
   "cell_type": "markdown",
   "id": "5ee75fc0",
   "metadata": {
    "papermill": {
     "duration": 0.00918,
     "end_time": "2023-08-26T10:06:20.651952",
     "exception": false,
     "start_time": "2023-08-26T10:06:20.642772",
     "status": "completed"
    },
    "tags": []
   },
   "source": [
    "# chart for freatures"
   ]
  },
  {
   "cell_type": "code",
   "execution_count": 9,
   "id": "30eac137",
   "metadata": {
    "execution": {
     "iopub.execute_input": "2023-08-26T10:06:20.672669Z",
     "iopub.status.busy": "2023-08-26T10:06:20.672245Z",
     "iopub.status.idle": "2023-08-26T10:06:22.157480Z",
     "shell.execute_reply": "2023-08-26T10:06:22.156131Z"
    },
    "papermill": {
     "duration": 1.498578,
     "end_time": "2023-08-26T10:06:22.160019",
     "exception": false,
     "start_time": "2023-08-26T10:06:20.661441",
     "status": "completed"
    },
    "tags": []
   },
   "outputs": [
    {
     "data": {
      "text/plain": [
       "array([[<Axes: title={'center': 'mean_radius'}>,\n",
       "        <Axes: title={'center': 'mean_texture'}>],\n",
       "       [<Axes: title={'center': 'mean_perimeter'}>,\n",
       "        <Axes: title={'center': 'mean_area'}>],\n",
       "       [<Axes: title={'center': 'mean_smoothness'}>,\n",
       "        <Axes: title={'center': 'diagnosis'}>]], dtype=object)"
      ]
     },
     "execution_count": 9,
     "metadata": {},
     "output_type": "execute_result"
    },
    {
     "data": {
      "image/png": "[encoded data removed]",
      "text/plain": [
       "<Figure size 1500x800 with 6 Axes>"
      ]
     },
     "metadata": {},
     "output_type": "display_data"
    }
   ],
   "source": [
    "df.hist(figsize = (15,8))"
   ]
  },
  {
   "cell_type": "markdown",
   "id": "eff8069d",
   "metadata": {
    "papermill": {
     "duration": 0.010155,
     "end_time": "2023-08-26T10:06:22.180514",
     "exception": false,
     "start_time": "2023-08-26T10:06:22.170359",
     "status": "completed"
    },
    "tags": []
   },
   "source": [
    "# normalize data"
   ]
  },
  {
   "cell_type": "code",
   "execution_count": 10,
   "id": "1ebb80d6",
   "metadata": {
    "execution": {
     "iopub.execute_input": "2023-08-26T10:06:22.204730Z",
     "iopub.status.busy": "2023-08-26T10:06:22.204041Z",
     "iopub.status.idle": "2023-08-26T10:06:22.374163Z",
     "shell.execute_reply": "2023-08-26T10:06:22.373130Z"
    },
    "papermill": {
     "duration": 0.185868,
     "end_time": "2023-08-26T10:06:22.376832",
     "exception": false,
     "start_time": "2023-08-26T10:06:22.190964",
     "status": "completed"
    },
    "tags": []
   },
   "outputs": [],
   "source": [
    "from sklearn import preprocessing\n",
    "x = preprocessing.StandardScaler().fit(x).transform(x)\n"
   ]
  },
  {
   "cell_type": "markdown",
   "id": "553cdc85",
   "metadata": {
    "papermill": {
     "duration": 0.010039,
     "end_time": "2023-08-26T10:06:22.397636",
     "exception": false,
     "start_time": "2023-08-26T10:06:22.387597",
     "status": "completed"
    },
    "tags": []
   },
   "source": [
    "# split data to train & test"
   ]
  },
  {
   "cell_type": "code",
   "execution_count": 11,
   "id": "30299c8f",
   "metadata": {
    "execution": {
     "iopub.execute_input": "2023-08-26T10:06:22.420669Z",
     "iopub.status.busy": "2023-08-26T10:06:22.419395Z",
     "iopub.status.idle": "2023-08-26T10:06:22.531944Z",
     "shell.execute_reply": "2023-08-26T10:06:22.530895Z"
    },
    "papermill": {
     "duration": 0.126768,
     "end_time": "2023-08-26T10:06:22.534667",
     "exception": false,
     "start_time": "2023-08-26T10:06:22.407899",
     "status": "completed"
    },
    "tags": []
   },
   "outputs": [],
   "source": [
    "from sklearn.model_selection import train_test_split\n",
    "x_train,x_test,y_train,y_test = train_test_split(x,y,test_size = 0.2,random_state = 0)"
   ]
  },
  {
   "cell_type": "markdown",
   "id": "0151be8d",
   "metadata": {
    "papermill": {
     "duration": 0.009928,
     "end_time": "2023-08-26T10:06:22.554985",
     "exception": false,
     "start_time": "2023-08-26T10:06:22.545057",
     "status": "completed"
    },
    "tags": []
   },
   "source": [
    "# modeling"
   ]
  },
  {
   "cell_type": "code",
   "execution_count": 12,
   "id": "bf241228",
   "metadata": {
    "execution": {
     "iopub.execute_input": "2023-08-26T10:06:22.577503Z",
     "iopub.status.busy": "2023-08-26T10:06:22.576705Z",
     "iopub.status.idle": "2023-08-26T10:06:22.698927Z",
     "shell.execute_reply": "2023-08-26T10:06:22.697001Z"
    },
    "papermill": {
     "duration": 0.136684,
     "end_time": "2023-08-26T10:06:22.701862",
     "exception": false,
     "start_time": "2023-08-26T10:06:22.565178",
     "status": "completed"
    },
    "tags": []
   },
   "outputs": [
    {
     "data": {
      "text/html": [
       "<style>#sk-container-id-1 {color: black;background-color: white;}#sk-container-id-1 pre{padding: 0;}#sk-container-id-1 div.sk-toggleable {background-color: white;}#sk-container-id-1 label.sk-toggleable__label {cursor: pointer;display: block;width: 100%;margin-bottom: 0;padding: 0.3em;box-sizing: border-box;text-align: center;}#sk-container-id-1 label.sk-toggleable__label-arrow:before {content: \"▸\";float: left;margin-right: 0.25em;color: #696969;}#sk-container-id-1 label.sk-toggleable__label-arrow:hover:before {color: black;}#sk-container-id-1 div.sk-estimator:hover label.sk-toggleable__label-arrow:before {color: black;}#sk-container-id-1 div.sk-toggleable__content {max-height: 0;max-width: 0;overflow: hidden;text-align: left;background-color: #f0f8ff;}#sk-container-id-1 div.sk-toggleable__content pre {margin: 0.2em;color: black;border-radius: 0.25em;background-color: #f0f8ff;}#sk-container-id-1 input.sk-toggleable__control:checked~div.sk-toggleable__content {max-height: 200px;max-width: 100%;overflow: auto;}#sk-container-id-1 input.sk-toggleable__control:checked~label.sk-toggleable__label-arrow:before {content: \"▾\";}#sk-container-id-1 div.sk-estimator input.sk-toggleable__control:checked~label.sk-toggleable__label {background-color: #d4ebff;}#sk-container-id-1 div.sk-label input.sk-toggleable__control:checked~label.sk-toggleable__label {background-color: #d4ebff;}#sk-container-id-1 input.sk-hidden--visually {border: 0;clip: rect(1px 1px 1px 1px);clip: rect(1px, 1px, 1px, 1px);height: 1px;margin: -1px;overflow: hidden;padding: 0;position: absolute;width: 1px;}#sk-container-id-1 div.sk-estimator {font-family: monospace;background-color: #f0f8ff;border: 1px dotted black;border-radius: 0.25em;box-sizing: border-box;margin-bottom: 0.5em;}#sk-container-id-1 div.sk-estimator:hover {background-color: #d4ebff;}#sk-container-id-1 div.sk-parallel-item::after {content: \"\";width: 100%;border-bottom: 1px solid gray;flex-grow: 1;}#sk-container-id-1 div.sk-label:hover label.sk-toggleable__label {background-color: #d4ebff;}#sk-container-id-1 div.sk-serial::before {content: \"\";position: absolute;border-left: 1px solid gray;box-sizing: border-box;top: 0;bottom: 0;left: 50%;z-index: 0;}#sk-container-id-1 div.sk-serial {display: flex;flex-direction: column;align-items: center;background-color: white;padding-right: 0.2em;padding-left: 0.2em;position: relative;}#sk-container-id-1 div.sk-item {position: relative;z-index: 1;}#sk-container-id-1 div.sk-parallel {display: flex;align-items: stretch;justify-content: center;background-color: white;position: relative;}#sk-container-id-1 div.sk-item::before, #sk-container-id-1 div.sk-parallel-item::before {content: \"\";position: absolute;border-left: 1px solid gray;box-sizing: border-box;top: 0;bottom: 0;left: 50%;z-index: -1;}#sk-container-id-1 div.sk-parallel-item {display: flex;flex-direction: column;z-index: 1;position: relative;background-color: white;}#sk-container-id-1 div.sk-parallel-item:first-child::after {align-self: flex-end;width: 50%;}#sk-container-id-1 div.sk-parallel-item:last-child::after {align-self: flex-start;width: 50%;}#sk-container-id-1 div.sk-parallel-item:only-child::after {width: 0;}#sk-container-id-1 div.sk-dashed-wrapped {border: 1px dashed gray;margin: 0 0.4em 0.5em 0.4em;box-sizing: border-box;padding-bottom: 0.4em;background-color: white;}#sk-container-id-1 div.sk-label label {font-family: monospace;font-weight: bold;display: inline-block;line-height: 1.2em;}#sk-container-id-1 div.sk-label-container {text-align: center;}#sk-container-id-1 div.sk-container {/* jupyter's `normalize.less` sets `[hidden] { display: none; }` but bootstrap.min.css set `[hidden] { display: none !important; }` so we also need the `!important` here to be able to override the default hidden behavior on the sphinx rendered scikit-learn.org. See: https://github.com/scikit-learn/scikit-learn/issues/21755 */display: inline-block !important;position: relative;}#sk-container-id-1 div.sk-text-repr-fallback {display: none;}</style><div id=\"sk-container-id-1\" class=\"sk-top-container\"><div class=\"sk-text-repr-fallback\"><pre>LogisticRegression(C=0.01, solver=&#x27;liblinear&#x27;)</pre><b>In a Jupyter environment, please rerun this cell to show the HTML representation or trust the notebook. <br />On GitHub, the HTML representation is unable to render, please try loading this page with nbviewer.org.</b></div><div class=\"sk-container\" hidden><div class=\"sk-item\"><div class=\"sk-estimator sk-toggleable\"><input class=\"sk-toggleable__control sk-hidden--visually\" id=\"sk-estimator-id-1\" type=\"checkbox\" checked><label for=\"sk-estimator-id-1\" class=\"sk-toggleable__label sk-toggleable__label-arrow\">LogisticRegression</label><div class=\"sk-toggleable__content\"><pre>LogisticRegression(C=0.01, solver=&#x27;liblinear&#x27;)</pre></div></div></div></div></div>"
      ],
      "text/plain": [
       "LogisticRegression(C=0.01, solver='liblinear')"
      ]
     },
     "execution_count": 12,
     "metadata": {},
     "output_type": "execute_result"
    }
   ],
   "source": [
    "from sklearn.linear_model import LogisticRegression\n",
    "LR = LogisticRegression(C=0.01, solver='liblinear').fit(x_train,y_train)\n",
    "LR"
   ]
  },
  {
   "cell_type": "code",
   "execution_count": 13,
   "id": "47014fd6",
   "metadata": {
    "execution": {
     "iopub.execute_input": "2023-08-26T10:06:22.726448Z",
     "iopub.status.busy": "2023-08-26T10:06:22.725580Z",
     "iopub.status.idle": "2023-08-26T10:06:22.731479Z",
     "shell.execute_reply": "2023-08-26T10:06:22.730341Z"
    },
    "papermill": {
     "duration": 0.020409,
     "end_time": "2023-08-26T10:06:22.733806",
     "exception": false,
     "start_time": "2023-08-26T10:06:22.713397",
     "status": "completed"
    },
    "tags": []
   },
   "outputs": [],
   "source": [
    "yhat = LR.predict(x_test)\n"
   ]
  },
  {
   "cell_type": "markdown",
   "id": "5557eda0",
   "metadata": {
    "papermill": {
     "duration": 0.010472,
     "end_time": "2023-08-26T10:06:22.755241",
     "exception": false,
     "start_time": "2023-08-26T10:06:22.744769",
     "status": "completed"
    },
    "tags": []
   },
   "source": [
    "# accuracy"
   ]
  },
  {
   "cell_type": "code",
   "execution_count": 14,
   "id": "5cea8584",
   "metadata": {
    "execution": {
     "iopub.execute_input": "2023-08-26T10:06:22.778650Z",
     "iopub.status.busy": "2023-08-26T10:06:22.778184Z",
     "iopub.status.idle": "2023-08-26T10:06:22.789258Z",
     "shell.execute_reply": "2023-08-26T10:06:22.788305Z"
    },
    "papermill": {
     "duration": 0.025561,
     "end_time": "2023-08-26T10:06:22.791495",
     "exception": false,
     "start_time": "2023-08-26T10:06:22.765934",
     "status": "completed"
    },
    "tags": []
   },
   "outputs": [
    {
     "data": {
      "text/plain": [
       "0.7959183673469388"
      ]
     },
     "execution_count": 14,
     "metadata": {},
     "output_type": "execute_result"
    }
   ],
   "source": [
    "from sklearn.metrics import jaccard_score\n",
    "jaccard_score(y_test, yhat,pos_label=0)"
   ]
  },
  {
   "cell_type": "markdown",
   "id": "a920a5ec",
   "metadata": {
    "papermill": {
     "duration": 0.010466,
     "end_time": "2023-08-26T10:06:22.813083",
     "exception": false,
     "start_time": "2023-08-26T10:06:22.802617",
     "status": "completed"
    },
    "tags": []
   },
   "source": [
    "# counfusion matrix"
   ]
  },
  {
   "cell_type": "code",
   "execution_count": 15,
   "id": "8ab6c461",
   "metadata": {
    "execution": {
     "iopub.execute_input": "2023-08-26T10:06:22.836639Z",
     "iopub.status.busy": "2023-08-26T10:06:22.835962Z",
     "iopub.status.idle": "2023-08-26T10:06:23.154210Z",
     "shell.execute_reply": "2023-08-26T10:06:23.153048Z"
    },
    "papermill": {
     "duration": 0.33289,
     "end_time": "2023-08-26T10:06:23.156762",
     "exception": false,
     "start_time": "2023-08-26T10:06:22.823872",
     "status": "completed"
    },
    "tags": []
   },
   "outputs": [
    {
     "data": {
      "text/plain": [
       "<sklearn.metrics._plot.confusion_matrix.ConfusionMatrixDisplay at 0x7cdcb2d056c0>"
      ]
     },
     "execution_count": 15,
     "metadata": {},
     "output_type": "execute_result"
    },
    {
     "data": {
      "image/png": "[encoded data removed]",
      "text/plain": [
       "<Figure size 640x480 with 2 Axes>"
      ]
     },
     "metadata": {},
     "output_type": "display_data"
    }
   ],
   "source": [
    "from sklearn import metrics\n",
    "from sklearn.metrics import confusion_matrix\n",
    "confusion_matrix = metrics.confusion_matrix(y_test, yhat)\n",
    "cm_display = metrics.ConfusionMatrixDisplay(confusion_matrix = confusion_matrix, display_labels = [0, 1])\n",
    "cm_display.plot()"
   ]
  }
 ],
 "metadata": {
  "kernelspec": {
   "display_name": "Python 3",
   "language": "python",
   "name": "python3"
  },
  "language_info": {
   "codemirror_mode": {
    "name": "ipython",
    "version": 3
   },
   "file_extension": ".py",
   "mimetype": "text/x-python",
   "name": "python",
   "nbconvert_exporter": "python",
   "pygments_lexer": "ipython3",
   "version": "3.10.12"
  },
  "papermill": {
   "default_parameters": {},
   "duration": 17.185555,
   "end_time": "2023-08-26T10:06:24.190612",
   "environment_variables": {},
   "exception": null,
   "input_path": "__notebook__.ipynb",
   "output_path": "__notebook__.ipynb",
   "parameters": {},
   "start_time": "2023-08-26T10:06:07.005057",
   "version": "2.4.0"
  }
 },
 "nbformat": 4,
 "nbformat_minor": 5
}
